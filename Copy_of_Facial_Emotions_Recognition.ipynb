{
  "nbformat": 4,
  "nbformat_minor": 0,
  "metadata": {
    "colab": {
      "provenance": [],
      "authorship_tag": "ABX9TyPljbVt7K1pk0dXQyr2qpwg",
      "include_colab_link": true
    },
    "kernelspec": {
      "name": "python3",
      "display_name": "Python 3"
    },
    "language_info": {
      "name": "python"
    },
    "accelerator": "GPU",
    "gpuClass": "standard"
  },
  "cells": [
    {
      "cell_type": "markdown",
      "metadata": {
        "id": "view-in-github",
        "colab_type": "text"
      },
      "source": [
        "<a href=\"https://colab.research.google.com/github/SidRaza786/Coding_ninjas_Demo/blob/master/Copy_of_Facial_Emotions_Recognition.ipynb\" target=\"_parent\"><img src=\"https://colab.research.google.com/assets/colab-badge.svg\" alt=\"Open In Colab\"/></a>"
      ]
    },
    {
      "cell_type": "code",
      "execution_count": 5,
      "metadata": {
        "colab": {
          "base_uri": "https://localhost:8080/"
        },
        "id": "42tRVTr4JSG1",
        "outputId": "07538c57-a594-4755-9521-0bf9e2654f07"
      },
      "outputs": [
        {
          "output_type": "stream",
          "name": "stdout",
          "text": [
            "Cloning into 'facial_expressions'...\n",
            "remote: Enumerating objects: 14214, done.\u001b[K\n",
            "remote: Total 14214 (delta 0), reused 0 (delta 0), pack-reused 14214\u001b[K\n",
            "Receiving objects: 100% (14214/14214), 239.65 MiB | 42.80 MiB/s, done.\n",
            "Resolving deltas: 100% (223/223), done.\n",
            "Updating files: 100% (13996/13996), done.\n"
          ]
        }
      ],
      "source": [
        "!git clone https://github.com/muxspace/facial_expressions.git"
      ]
    },
    {
      "cell_type": "code",
      "source": [
        "\"/content/facial_expressions\""
      ],
      "metadata": {
        "colab": {
          "base_uri": "https://localhost:8080/",
          "height": 35
        },
        "id": "aJokXV5QJ9uB",
        "outputId": "02b25214-2a73-4328-ca55-9a4850ff5cfd"
      },
      "execution_count": 6,
      "outputs": [
        {
          "output_type": "execute_result",
          "data": {
            "text/plain": [
              "'/content/facial_expressions'"
            ],
            "application/vnd.google.colaboratory.intrinsic+json": {
              "type": "string"
            }
          },
          "metadata": {},
          "execution_count": 6
        }
      ]
    },
    {
      "cell_type": "code",
      "source": [
        "import csv\n",
        "data = {}\n",
        "with open(\"/content/facial_expressions/data/legend.csv\") as f:\n",
        "  reader = csv.reader(f)\n",
        "  next(reader)\n",
        "  for row in reader:\n",
        "    key = row[2].lower()\n",
        "    if key in data:\n",
        "      data[key].append(row[1])\n",
        "    else:\n",
        "      data[key] = [row[1]]"
      ],
      "metadata": {
        "id": "yGf3JC57KNwC"
      },
      "execution_count": 7,
      "outputs": []
    },
    {
      "cell_type": "code",
      "source": [
        "emotion_list = list(data.keys())\n",
        "emotion_list"
      ],
      "metadata": {
        "colab": {
          "base_uri": "https://localhost:8080/"
        },
        "id": "ex3RFfyhLt-a",
        "outputId": "fadd13ec-7982-4779-e866-f50a1653ff31"
      },
      "execution_count": 8,
      "outputs": [
        {
          "output_type": "execute_result",
          "data": {
            "text/plain": [
              "['anger',\n",
              " 'surprise',\n",
              " 'disgust',\n",
              " 'fear',\n",
              " 'neutral',\n",
              " 'happiness',\n",
              " 'sadness',\n",
              " 'contempt']"
            ]
          },
          "metadata": {},
          "execution_count": 8
        }
      ]
    },
    {
      "cell_type": "code",
      "source": [
        "import os"
      ],
      "metadata": {
        "id": "ogF-fxeFL2aP"
      },
      "execution_count": 9,
      "outputs": []
    },
    {
      "cell_type": "code",
      "source": [
        "# make directory for store data\n",
        "os.mkdir('master_data')\n",
        "os.mkdir('master_data/training')\n",
        "os.mkdir('master_data/testing')"
      ],
      "metadata": {
        "id": "S1Zq-BhYiS56"
      },
      "execution_count": 10,
      "outputs": []
    },
    {
      "cell_type": "code",
      "source": [
        "for emotion in emotion_list:\n",
        "  os.mkdir(os.path.join('master_data/training', emotion))\n",
        "  os.mkdir(os.path.join('master_data/testing', emotion))"
      ],
      "metadata": {
        "id": "w10FbwgVjAS6"
      },
      "execution_count": 11,
      "outputs": []
    },
    {
      "cell_type": "code",
      "source": [
        "from shutil import copyfile"
      ],
      "metadata": {
        "id": "ykxqMnCijtMA"
      },
      "execution_count": 12,
      "outputs": []
    },
    {
      "cell_type": "code",
      "source": [
        "split_size = 0.8\n",
        "for emotion, images in data.items():\n",
        "  train_size = int(split_size*len(images))\n",
        "  train_images = images[:train_size]\n",
        "  test_images = images[train_size:]\n",
        "  \n",
        "  for image in train_images:\n",
        "    source = os.path.join('/content/facial_expressions/images', image)\n",
        "    dest = os.path.join('master_data/training', emotion, image)\n",
        "    copyfile(source, dest)\n",
        "\n",
        "  for image in test_images:\n",
        "    source = os.path.join('/content/facial_expressions/images', image)\n",
        "    dest = os.path.join('master_data/testing', emotion, image)\n",
        "    copyfile(source, dest)"
      ],
      "metadata": {
        "id": "GtsddcVTj5_q"
      },
      "execution_count": 13,
      "outputs": []
    },
    {
      "cell_type": "code",
      "source": [
        "import tensorflow as tf\n",
        "from tensorflow import keras\n",
        "from keras.models import Sequential\n",
        "from keras.preprocessing.image import ImageDataGenerator\n",
        "from keras.optimizers import Adam\n",
        "from keras.callbacks import EarlyStopping\n",
        "from keras.layers import Conv2D, MaxPooling2D, Dense, Flatten"
      ],
      "metadata": {
        "id": "i6lL781FnBW_"
      },
      "execution_count": 14,
      "outputs": []
    },
    {
      "cell_type": "code",
      "source": [
        "model = Sequential()\n",
        "model.add(Conv2D(16, (3,3), activation = 'relu', input_shape = (100, 100, 3)))\n",
        "model.add(MaxPooling2D(2,2))\n",
        "model.add(Conv2D(32, (3,3), activation = 'relu'))\n",
        "model.add(MaxPooling2D(2,2))\n",
        "model.add(Conv2D(64, (3,3), activation = 'relu'))\n",
        "model.add(MaxPooling2D(2,2))\n",
        "model.add(Flatten())\n",
        "model.add(Dense(1024, activation = 'relu'))\n",
        "model.add(Dense(512, activation = 'relu'))\n",
        "model.add(Dense(8, activation = 'softmax'))\n",
        "model.compile(optimizer= Adam(learning_rate = 0.001), loss = 'categorical_crossentropy', metrics = ['acc'])\n",
        "model.summary()"
      ],
      "metadata": {
        "id": "FS10166GoP8d",
        "outputId": "a142643b-bd23-46da-bbeb-80d874c8e61c",
        "colab": {
          "base_uri": "https://localhost:8080/"
        }
      },
      "execution_count": 15,
      "outputs": [
        {
          "output_type": "stream",
          "name": "stdout",
          "text": [
            "Model: \"sequential\"\n",
            "_________________________________________________________________\n",
            " Layer (type)                Output Shape              Param #   \n",
            "=================================================================\n",
            " conv2d (Conv2D)             (None, 98, 98, 16)        448       \n",
            "                                                                 \n",
            " max_pooling2d (MaxPooling2D  (None, 49, 49, 16)       0         \n",
            " )                                                               \n",
            "                                                                 \n",
            " conv2d_1 (Conv2D)           (None, 47, 47, 32)        4640      \n",
            "                                                                 \n",
            " max_pooling2d_1 (MaxPooling  (None, 23, 23, 32)       0         \n",
            " 2D)                                                             \n",
            "                                                                 \n",
            " conv2d_2 (Conv2D)           (None, 21, 21, 64)        18496     \n",
            "                                                                 \n",
            " max_pooling2d_2 (MaxPooling  (None, 10, 10, 64)       0         \n",
            " 2D)                                                             \n",
            "                                                                 \n",
            " flatten (Flatten)           (None, 6400)              0         \n",
            "                                                                 \n",
            " dense (Dense)               (None, 1024)              6554624   \n",
            "                                                                 \n",
            " dense_1 (Dense)             (None, 512)               524800    \n",
            "                                                                 \n",
            " dense_2 (Dense)             (None, 8)                 4104      \n",
            "                                                                 \n",
            "=================================================================\n",
            "Total params: 7,107,112\n",
            "Trainable params: 7,107,112\n",
            "Non-trainable params: 0\n",
            "_________________________________________________________________\n"
          ]
        }
      ]
    },
    {
      "cell_type": "code",
      "source": [
        "train_dir = '/content/master_data/training'\n",
        "test_dir = '/content/master_data/testing'\n",
        "train_data_gen = ImageDataGenerator(rescale = 1.0/225)\n",
        "train_generator = train_data_gen.flow_from_directory(train_dir,\n",
        "                                                     target_size = (100, 100),\n",
        "                                                     class_mode = 'categorical',\n",
        "                                                     batch_size = 128\n",
        "                                                     )\n",
        "\n",
        "test_data_gen = ImageDataGenerator(rescale = 1.0/225)\n",
        "test_generator = test_data_gen.flow_from_directory(test_dir,\n",
        "                                                     target_size = (100, 100),\n",
        "                                                     class_mode = 'categorical',\n",
        "                                                     batch_size = 128\n",
        "                                                   )"
      ],
      "metadata": {
        "id": "J_1lLQgTptwt",
        "colab": {
          "base_uri": "https://localhost:8080/"
        },
        "outputId": "29d496c3-a3f1-48c6-9425-8db9cefcc6d7"
      },
      "execution_count": 16,
      "outputs": [
        {
          "output_type": "stream",
          "name": "stdout",
          "text": [
            "Found 10941 images belonging to 8 classes.\n",
            "Found 2742 images belonging to 8 classes.\n"
          ]
        }
      ]
    },
    {
      "cell_type": "code",
      "source": [
        "es = EarlyStopping(monitor = 'val_acc', patience=2, min_delta = 0.01)"
      ],
      "metadata": {
        "id": "HZlsny43t-S7"
      },
      "execution_count": 17,
      "outputs": []
    },
    {
      "cell_type": "code",
      "source": [
        "model.fit_generator(train_generator, epochs = 10, verbose = 1, validation_data= test_generator, callbacks = [es])"
      ],
      "metadata": {
        "colab": {
          "base_uri": "https://localhost:8080/"
        },
        "id": "wvKmU6-gxTuM",
        "outputId": "ad0c4207-0e3b-4878-a9ab-663eb892dab6"
      },
      "execution_count": 18,
      "outputs": [
        {
          "output_type": "stream",
          "name": "stderr",
          "text": [
            "<ipython-input-18-6cea27a4e0c6>:1: UserWarning: `Model.fit_generator` is deprecated and will be removed in a future version. Please use `Model.fit`, which supports generators.\n",
            "  model.fit_generator(train_generator, epochs = 10, verbose = 1, validation_data= test_generator, callbacks = [es])\n"
          ]
        },
        {
          "output_type": "stream",
          "name": "stdout",
          "text": [
            "Epoch 1/10\n",
            "86/86 [==============================] - 24s 181ms/step - loss: 1.0032 - acc: 0.5468 - val_loss: 1.2479 - val_acc: 0.6200\n",
            "Epoch 2/10\n",
            "86/86 [==============================] - 15s 174ms/step - loss: 0.6291 - acc: 0.7809 - val_loss: 1.9961 - val_acc: 0.6360\n",
            "Epoch 3/10\n",
            "86/86 [==============================] - 15s 172ms/step - loss: 0.5394 - acc: 0.8155 - val_loss: 1.7110 - val_acc: 0.6747\n",
            "Epoch 4/10\n",
            "86/86 [==============================] - 15s 175ms/step - loss: 0.4681 - acc: 0.8394 - val_loss: 1.8623 - val_acc: 0.6740\n",
            "Epoch 5/10\n",
            "86/86 [==============================] - 15s 175ms/step - loss: 0.4331 - acc: 0.8483 - val_loss: 1.7967 - val_acc: 0.6721\n"
          ]
        },
        {
          "output_type": "execute_result",
          "data": {
            "text/plain": [
              "<keras.callbacks.History at 0x7f5b464748b0>"
            ]
          },
          "metadata": {},
          "execution_count": 18
        }
      ]
    },
    {
      "cell_type": "code",
      "source": [],
      "metadata": {
        "id": "0Ap1SUHmYCIE"
      },
      "execution_count": null,
      "outputs": []
    },
    {
      "cell_type": "code",
      "source": [],
      "metadata": {
        "id": "_EQtwDI-X3AK"
      },
      "execution_count": null,
      "outputs": []
    }
  ]
}