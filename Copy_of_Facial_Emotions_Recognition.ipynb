{
  "nbformat": 4,
  "nbformat_minor": 0,
  "metadata": {
    "colab": {
      "provenance": [],
      "authorship_tag": "ABX9TyN1yFDV6h5ZurI4zTxHzask",
      "include_colab_link": true
    },
    "kernelspec": {
      "name": "python3",
      "display_name": "Python 3"
    },
    "language_info": {
      "name": "python"
    },
    "accelerator": "GPU",
    "gpuClass": "standard"
  },
  "cells": [
    {
      "cell_type": "markdown",
      "metadata": {
        "id": "view-in-github",
        "colab_type": "text"
      },
      "source": [
        "<a href=\"https://colab.research.google.com/github/SidRaza786/Coding_ninjas_Demo/blob/master/Copy_of_Facial_Emotions_Recognition.ipynb\" target=\"_parent\"><img src=\"https://colab.research.google.com/assets/colab-badge.svg\" alt=\"Open In Colab\"/></a>"
      ]
    },
    {
      "cell_type": "code",
      "execution_count": 1,
      "metadata": {
        "colab": {
          "base_uri": "https://localhost:8080/"
        },
        "id": "42tRVTr4JSG1",
        "outputId": "25d12d22-85cf-45b0-b750-0bec38c5dc86"
      },
      "outputs": [
        {
          "output_type": "stream",
          "name": "stdout",
          "text": [
            "Cloning into 'facial_expressions'...\n",
            "remote: Enumerating objects: 14214, done.\u001b[K\n",
            "remote: Total 14214 (delta 0), reused 0 (delta 0), pack-reused 14214\u001b[K\n",
            "Receiving objects: 100% (14214/14214), 239.65 MiB | 15.90 MiB/s, done.\n",
            "Resolving deltas: 100% (223/223), done.\n",
            "Updating files: 100% (13996/13996), done.\n"
          ]
        }
      ],
      "source": [
        "!git clone https://github.com/muxspace/facial_expressions.git"
      ]
    },
    {
      "cell_type": "code",
      "source": [
        "\"/content/facial_expressions\""
      ],
      "metadata": {
        "colab": {
          "base_uri": "https://localhost:8080/",
          "height": 35
        },
        "id": "aJokXV5QJ9uB",
        "outputId": "c14b5948-0974-4506-b11e-4849bf0c364b"
      },
      "execution_count": 2,
      "outputs": [
        {
          "output_type": "execute_result",
          "data": {
            "text/plain": [
              "'/content/facial_expressions'"
            ],
            "application/vnd.google.colaboratory.intrinsic+json": {
              "type": "string"
            }
          },
          "metadata": {},
          "execution_count": 2
        }
      ]
    },
    {
      "cell_type": "code",
      "source": [
        "import csv\n",
        "data = {}\n",
        "with open(\"/content/facial_expressions/data/legend.csv\") as f:\n",
        "  reader = csv.reader(f)\n",
        "  next(reader)\n",
        "  for row in reader:\n",
        "    key = row[2].lower()\n",
        "    if key in data:\n",
        "      data[key].append(row[1])\n",
        "    else:\n",
        "      data[key] = [row[1]]"
      ],
      "metadata": {
        "id": "yGf3JC57KNwC"
      },
      "execution_count": 3,
      "outputs": []
    },
    {
      "cell_type": "code",
      "source": [
        "emotion_list = list(data.keys())\n",
        "emotion_list"
      ],
      "metadata": {
        "colab": {
          "base_uri": "https://localhost:8080/"
        },
        "id": "ex3RFfyhLt-a",
        "outputId": "94bc8b77-54e2-4df7-8fb4-cebafa6ea411"
      },
      "execution_count": 4,
      "outputs": [
        {
          "output_type": "execute_result",
          "data": {
            "text/plain": [
              "['anger',\n",
              " 'surprise',\n",
              " 'disgust',\n",
              " 'fear',\n",
              " 'neutral',\n",
              " 'happiness',\n",
              " 'sadness',\n",
              " 'contempt']"
            ]
          },
          "metadata": {},
          "execution_count": 4
        }
      ]
    },
    {
      "cell_type": "code",
      "source": [
        "import os"
      ],
      "metadata": {
        "id": "ogF-fxeFL2aP"
      },
      "execution_count": 5,
      "outputs": []
    },
    {
      "cell_type": "code",
      "source": [
        "# make directory for store data\n",
        "os.mkdir('master_data')\n",
        "os.mkdir('master_data/training')\n",
        "os.mkdir('master_data/testing')"
      ],
      "metadata": {
        "id": "S1Zq-BhYiS56"
      },
      "execution_count": 6,
      "outputs": []
    },
    {
      "cell_type": "code",
      "source": [
        "for emotion in emotion_list:\n",
        "  os.mkdir(os.path.join('master_data/training', emotion))\n",
        "  os.mkdir(os.path.join('master_data/testing', emotion))"
      ],
      "metadata": {
        "id": "w10FbwgVjAS6"
      },
      "execution_count": 7,
      "outputs": []
    },
    {
      "cell_type": "code",
      "source": [
        "from shutil import copyfile"
      ],
      "metadata": {
        "id": "ykxqMnCijtMA"
      },
      "execution_count": 8,
      "outputs": []
    },
    {
      "cell_type": "code",
      "source": [
        "split_size = 0.8\n",
        "for emotion, images in data.items():\n",
        "  train_size = int(split_size*len(images))\n",
        "  train_images = images[:train_size]\n",
        "  test_images = images[train_size:]\n",
        "  \n",
        "  for image in train_images:\n",
        "    source = os.path.join('/content/facial_expressions/images', image)\n",
        "    dest = os.path.join('master_data/training', emotion, image)\n",
        "    copyfile(source, dest)\n",
        "\n",
        "  for image in test_images:\n",
        "    source = os.path.join('/content/facial_expressions/images', image)\n",
        "    dest = os.path.join('master_data/testing', emotion, image)\n",
        "    copyfile(source, dest)"
      ],
      "metadata": {
        "id": "GtsddcVTj5_q"
      },
      "execution_count": 9,
      "outputs": []
    },
    {
      "cell_type": "code",
      "source": [
        "import tensorflow as tf\n",
        "from tensorflow import keras\n",
        "from keras.models import Sequential\n",
        "from keras.preprocessing.image import ImageDataGenerator\n",
        "from keras.optimizers import Adam\n",
        "from keras.callbacks import EarlyStopping\n",
        "from keras.layers import Conv2D, MaxPooling2D, Dense, Flatten"
      ],
      "metadata": {
        "id": "i6lL781FnBW_"
      },
      "execution_count": 10,
      "outputs": []
    },
    {
      "cell_type": "code",
      "source": [
        "model = Sequential()\n",
        "model.add(Conv2D(16, (3,3), activation = 'relu', input_shape = (100, 100, 3)))\n",
        "model.add(MaxPooling2D(2,2))\n",
        "model.add(Conv2D(32, (3,3), activation = 'relu'))\n",
        "model.add(MaxPooling2D(2,2))\n",
        "model.add(Conv2D(64, (3,3), activation = 'relu'))\n",
        "model.add(MaxPooling2D(2,2))\n",
        "model.add(Flatten())\n",
        "model.add(Dense(1024, activation = 'relu'))\n",
        "model.add(Dense(8, activation = 'softmax'))\n",
        "model.compile(optimizer= Adam(learning_rate = 0.001), loss = 'categorical_crossentropy', metrics = ['acc'])\n",
        "model.summary()"
      ],
      "metadata": {
        "id": "FS10166GoP8d",
        "outputId": "4f8602c4-6ac8-4ef2-906c-a369df9c51fa",
        "colab": {
          "base_uri": "https://localhost:8080/"
        }
      },
      "execution_count": 22,
      "outputs": [
        {
          "output_type": "stream",
          "name": "stdout",
          "text": [
            "Model: \"sequential_4\"\n",
            "_________________________________________________________________\n",
            " Layer (type)                Output Shape              Param #   \n",
            "=================================================================\n",
            " conv2d_12 (Conv2D)          (None, 98, 98, 16)        448       \n",
            "                                                                 \n",
            " max_pooling2d_12 (MaxPoolin  (None, 49, 49, 16)       0         \n",
            " g2D)                                                            \n",
            "                                                                 \n",
            " conv2d_13 (Conv2D)          (None, 47, 47, 32)        4640      \n",
            "                                                                 \n",
            " max_pooling2d_13 (MaxPoolin  (None, 23, 23, 32)       0         \n",
            " g2D)                                                            \n",
            "                                                                 \n",
            " conv2d_14 (Conv2D)          (None, 21, 21, 64)        18496     \n",
            "                                                                 \n",
            " max_pooling2d_14 (MaxPoolin  (None, 10, 10, 64)       0         \n",
            " g2D)                                                            \n",
            "                                                                 \n",
            " flatten_4 (Flatten)         (None, 6400)              0         \n",
            "                                                                 \n",
            " dense_8 (Dense)             (None, 1024)              6554624   \n",
            "                                                                 \n",
            " dense_9 (Dense)             (None, 8)                 8200      \n",
            "                                                                 \n",
            "=================================================================\n",
            "Total params: 6,586,408\n",
            "Trainable params: 6,586,408\n",
            "Non-trainable params: 0\n",
            "_________________________________________________________________\n"
          ]
        }
      ]
    },
    {
      "cell_type": "code",
      "source": [
        "train_dir = '/content/master_data/training'\n",
        "test_dir = '/content/master_data/testing'\n",
        "train_data_gen = ImageDataGenerator(rescale = 1.0/225)\n",
        "train_generator = train_data_gen.flow_from_directory(train_dir,\n",
        "                                                     target_size = (100, 100),\n",
        "                                                     class_mode = 'categorical',\n",
        "                                                     batch_size = 128\n",
        "                                                     )\n",
        "\n",
        "test_data_gen = ImageDataGenerator(rescale = 1.0/225)\n",
        "test_generator = test_data_gen.flow_from_directory(test_dir,\n",
        "                                                     target_size = (100, 100),\n",
        "                                                     class_mode = 'categorical',\n",
        "                                                     batch_size = 128\n",
        "                                                   )"
      ],
      "metadata": {
        "id": "J_1lLQgTptwt",
        "colab": {
          "base_uri": "https://localhost:8080/"
        },
        "outputId": "ab52e235-978f-40b1-d4cb-1f92356d307e"
      },
      "execution_count": 23,
      "outputs": [
        {
          "output_type": "stream",
          "name": "stdout",
          "text": [
            "Found 10941 images belonging to 8 classes.\n",
            "Found 2742 images belonging to 8 classes.\n"
          ]
        }
      ]
    },
    {
      "cell_type": "code",
      "source": [
        "es = EarlyStopping(monitor = 'val_acc', patience=2, min_delta = 0.01)"
      ],
      "metadata": {
        "id": "HZlsny43t-S7"
      },
      "execution_count": 24,
      "outputs": []
    },
    {
      "cell_type": "code",
      "source": [
        "model.fit_generator(train_generator, epochs = 10, verbose = 1, validation_data= test_generator, callbacks = [es])"
      ],
      "metadata": {
        "colab": {
          "base_uri": "https://localhost:8080/"
        },
        "id": "wvKmU6-gxTuM",
        "outputId": "3e9b89fa-14b9-413b-ca38-b0eb73dc89d3"
      },
      "execution_count": 25,
      "outputs": [
        {
          "output_type": "stream",
          "name": "stdout",
          "text": [
            "Epoch 1/10\n"
          ]
        },
        {
          "output_type": "stream",
          "name": "stderr",
          "text": [
            "<ipython-input-25-6cea27a4e0c6>:1: UserWarning: `Model.fit_generator` is deprecated and will be removed in a future version. Please use `Model.fit`, which supports generators.\n",
            "  model.fit_generator(train_generator, epochs = 10, verbose = 1, validation_data= test_generator, callbacks = [es])\n"
          ]
        },
        {
          "output_type": "stream",
          "name": "stdout",
          "text": [
            "86/86 [==============================] - 18s 200ms/step - loss: 0.9371 - acc: 0.6134 - val_loss: 0.9665 - val_acc: 0.6375\n",
            "Epoch 2/10\n",
            "86/86 [==============================] - 15s 175ms/step - loss: 0.5847 - acc: 0.8002 - val_loss: 1.3304 - val_acc: 0.6546\n",
            "Epoch 3/10\n",
            "86/86 [==============================] - 15s 175ms/step - loss: 0.5285 - acc: 0.8130 - val_loss: 1.0428 - val_acc: 0.6977\n",
            "Epoch 4/10\n",
            "86/86 [==============================] - 15s 177ms/step - loss: 0.4650 - acc: 0.8401 - val_loss: 1.1769 - val_acc: 0.6907\n",
            "Epoch 5/10\n",
            "86/86 [==============================] - 16s 188ms/step - loss: 0.4174 - acc: 0.8551 - val_loss: 1.5001 - val_acc: 0.6842\n"
          ]
        },
        {
          "output_type": "execute_result",
          "data": {
            "text/plain": [
              "<keras.callbacks.History at 0x7fe196383400>"
            ]
          },
          "metadata": {},
          "execution_count": 25
        }
      ]
    },
    {
      "cell_type": "code",
      "source": [],
      "metadata": {
        "id": "d-5jjhIsxr5u"
      },
      "execution_count": 15,
      "outputs": []
    }
  ]
}